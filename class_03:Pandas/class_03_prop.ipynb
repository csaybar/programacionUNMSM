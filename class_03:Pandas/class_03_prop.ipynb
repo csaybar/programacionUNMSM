{
  "nbformat": 4,
  "nbformat_minor": 0,
  "metadata": {
    "colab": {
      "name": "class_03_prop.ipynb",
      "version": "0.3.2",
      "provenance": [],
      "include_colab_link": true
    },
    "kernelspec": {
      "name": "python3",
      "display_name": "Python 3"
    }
  },
  "cells": [
    {
      "cell_type": "markdown",
      "metadata": {
        "id": "view-in-github",
        "colab_type": "text"
      },
      "source": [
        "<a href=\"https://colab.research.google.com/github/csaybar/programacionUNMSM/blob/master/class_03%3APandas/class_03_prop.ipynb\" target=\"_parent\"><img src=\"https://colab.research.google.com/assets/colab-badge.svg\" alt=\"Open In Colab\"/></a>"
      ]
    },
    {
      "metadata": {
        "id": "8Vn95x6VAs0E",
        "colab_type": "text"
      },
      "cell_type": "markdown",
      "source": [
        "### Estimacion de la pendiente y elevacion en "
      ]
    },
    {
      "metadata": {
        "id": "MHgsy6ljBQXN",
        "colab_type": "text"
      },
      "cell_type": "markdown",
      "source": [
        "### 1. Paso Previo"
      ]
    },
    {
      "metadata": {
        "id": "ydorSWeSBEz-",
        "colab_type": "text"
      },
      "cell_type": "markdown",
      "source": [
        "#### 1.1 Instale las librerias"
      ]
    },
    {
      "metadata": {
        "id": "GMwCYHL9_mVn",
        "colab_type": "code",
        "colab": {}
      },
      "cell_type": "code",
      "source": [
        "!pip install earthengine-api\n",
        "!pip install geopandas\n",
        "!pip install descartes"
      ],
      "execution_count": 0,
      "outputs": []
    },
    {
      "metadata": {
        "id": "jU4P3HnBBKFk",
        "colab_type": "text"
      },
      "cell_type": "markdown",
      "source": [
        "#### 1.2 Carge las librerias"
      ]
    },
    {
      "metadata": {
        "id": "k3PEl8lC_8Al",
        "colab_type": "code",
        "colab": {}
      },
      "cell_type": "code",
      "source": [
        "from matplotlib import pyplot as plt # Data vzualization with python!\n",
        "import geopandas as gpd\n",
        "import urllib\n",
        "import zipfile\n",
        "import ee  "
      ],
      "execution_count": 0,
      "outputs": []
    },
    {
      "metadata": {
        "id": "JUxdG2JFBaL8",
        "colab_type": "text"
      },
      "cell_type": "markdown",
      "source": [
        "#### 1.3 Descargando el archivo prov.zip "
      ]
    },
    {
      "metadata": {
        "id": "yLn_0lEd_n6i",
        "colab_type": "code",
        "colab": {}
      },
      "cell_type": "code",
      "source": [
        "#4.3 download \"prov.zip\"\n",
        "provincias = 'https://github.com/csaybar/programacionUNMSM/raw/master/class02:GEE/data/data.zip'\n",
        "urllib.request.urlretrieve(provincias, 'prov.zip')"
      ],
      "execution_count": 0,
      "outputs": []
    },
    {
      "metadata": {
        "id": "95UmhHOqBhOj",
        "colab_type": "text"
      },
      "cell_type": "markdown",
      "source": [
        "#### 1.4 Descomprimiento prov.zip"
      ]
    },
    {
      "metadata": {
        "id": "mWl2LObnAEgb",
        "colab_type": "code",
        "colab": {}
      },
      "cell_type": "code",
      "source": [
        "#4.4 unzip\n",
        "zpfile = 'prov.zip'\n",
        "with zipfile.ZipFile(zpfile, 'r') as zip_file:\n",
        "  zip_file.extractall('.')"
      ],
      "execution_count": 0,
      "outputs": []
    },
    {
      "metadata": {
        "id": "cEe8ePd5AKuz",
        "colab_type": "code",
        "colab": {}
      },
      "cell_type": "code",
      "source": [
        "provincias = gpd.read_file('Provincia.shp')\n",
        "provincias.plot()\n",
        "plt.show()"
      ],
      "execution_count": 0,
      "outputs": []
    },
    {
      "metadata": {
        "id": "yLBx09ocBuUs",
        "colab_type": "text"
      },
      "cell_type": "markdown",
      "source": [
        "#### 1.5 Shapefile to GeoJson"
      ]
    },
    {
      "metadata": {
        "id": "hj-lUPCqBy4A",
        "colab_type": "code",
        "colab": {}
      },
      "cell_type": "code",
      "source": [
        ""
      ],
      "execution_count": 0,
      "outputs": []
    },
    {
      "metadata": {
        "id": "7fdsPb4dB-rD",
        "colab_type": "text"
      },
      "cell_type": "markdown",
      "source": [
        "### 2. Estableciendo la Coneccion con GEE y Google Drive"
      ]
    },
    {
      "metadata": {
        "id": "KvnSZHfHCDzx",
        "colab_type": "code",
        "colab": {}
      },
      "cell_type": "code",
      "source": [
        ""
      ],
      "execution_count": 0,
      "outputs": []
    },
    {
      "metadata": {
        "id": "-eXcC6n5CFtU",
        "colab_type": "code",
        "colab": {}
      },
      "cell_type": "code",
      "source": [
        ""
      ],
      "execution_count": 0,
      "outputs": []
    },
    {
      "metadata": {
        "id": "pnkV0II8CGXd",
        "colab_type": "code",
        "colab": {}
      },
      "cell_type": "code",
      "source": [
        ""
      ],
      "execution_count": 0,
      "outputs": []
    },
    {
      "metadata": {
        "id": "O4JB78u0CE00",
        "colab_type": "text"
      },
      "cell_type": "markdown",
      "source": [
        "### 3. ee.Image + ee.batch.Export.image + ee.Feature\n"
      ]
    },
    {
      "metadata": {
        "id": "tEn8KFgLDqcy",
        "colab_type": "code",
        "colab": {}
      },
      "cell_type": "code",
      "source": [
        ""
      ],
      "execution_count": 0,
      "outputs": []
    },
    {
      "metadata": {
        "id": "vAC13oeTDrrX",
        "colab_type": "code",
        "colab": {}
      },
      "cell_type": "code",
      "source": [
        ""
      ],
      "execution_count": 0,
      "outputs": []
    },
    {
      "metadata": {
        "id": "pGDauw17DrZP",
        "colab_type": "code",
        "colab": {}
      },
      "cell_type": "code",
      "source": [
        ""
      ],
      "execution_count": 0,
      "outputs": []
    },
    {
      "metadata": {
        "id": "r4eRpGFNDrLf",
        "colab_type": "code",
        "colab": {}
      },
      "cell_type": "code",
      "source": [
        ""
      ],
      "execution_count": 0,
      "outputs": []
    }
  ]
}