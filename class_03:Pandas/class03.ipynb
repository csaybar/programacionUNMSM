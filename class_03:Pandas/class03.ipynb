{
  "nbformat": 4,
  "nbformat_minor": 0,
  "metadata": {
    "colab": {
      "name": "Untitled10.ipynb",
      "version": "0.3.2",
      "provenance": [],
      "include_colab_link": true
    },
    "kernelspec": {
      "name": "python3",
      "display_name": "Python 3"
    }
  },
  "cells": [
    {
      "cell_type": "markdown",
      "metadata": {
        "id": "view-in-github",
        "colab_type": "text"
      },
      "source": [
        "<a href=\"https://colab.research.google.com/github/csaybar/programacionUNMSM/blob/master/class_03%3APandas/class03.ipynb\" target=\"_parent\"><img src=\"https://colab.research.google.com/assets/colab-badge.svg\" alt=\"Open In Colab\"/></a>"
      ]
    },
    {
      "metadata": {
        "id": "LlYfY5OY--8j",
        "colab_type": "text"
      },
      "cell_type": "markdown",
      "source": [
        "# PANDAS"
      ]
    },
    {
      "metadata": {
        "id": "TTANQJ0E_AYZ",
        "colab_type": "code",
        "colab": {}
      },
      "cell_type": "code",
      "source": [
        "import pandas as pd\n",
        "import numpy as np"
      ],
      "execution_count": 0,
      "outputs": []
    },
    {
      "metadata": {
        "id": "EO5iPsrZSR9U",
        "colab_type": "code",
        "colab": {}
      },
      "cell_type": "code",
      "source": [
        "# pd.Series\n",
        "# pd.DataFrame\n"
      ],
      "execution_count": 0,
      "outputs": []
    },
    {
      "metadata": {
        "id": "D2C5EoJ7TnqH",
        "colab_type": "code",
        "colab": {
          "base_uri": "https://localhost:8080/",
          "height": 126
        },
        "outputId": "bbdf02ee-a5e2-4cf3-8a58-c220c775915f"
      },
      "cell_type": "code",
      "source": [
        "#lista\n",
        "pd.Series([1,2,3,4,5])\n"
      ],
      "execution_count": 6,
      "outputs": [
        {
          "output_type": "execute_result",
          "data": {
            "text/plain": [
              "0    1\n",
              "1    2\n",
              "2    3\n",
              "3    4\n",
              "4    5\n",
              "dtype: int64"
            ]
          },
          "metadata": {
            "tags": []
          },
          "execution_count": 6
        }
      ]
    },
    {
      "metadata": {
        "id": "6j9MbJvoTzcw",
        "colab_type": "code",
        "colab": {
          "base_uri": "https://localhost:8080/",
          "height": 89
        },
        "outputId": "7d513fe7-a40a-4b3b-8204-8a34a9cdb29a"
      },
      "cell_type": "code",
      "source": [
        "pd.Series({'a':1,'b':2,'c':3})"
      ],
      "execution_count": 7,
      "outputs": [
        {
          "output_type": "execute_result",
          "data": {
            "text/plain": [
              "a    1\n",
              "b    2\n",
              "c    3\n",
              "dtype: int64"
            ]
          },
          "metadata": {
            "tags": []
          },
          "execution_count": 7
        }
      ]
    },
    {
      "metadata": {
        "id": "G14N_kiBUE3m",
        "colab_type": "code",
        "colab": {
          "base_uri": "https://localhost:8080/",
          "height": 107
        },
        "outputId": "217fd422-1816-414d-9a4d-2cfeda28ef72"
      },
      "cell_type": "code",
      "source": [
        "pd.Series(np.array([1,2,3,4]))"
      ],
      "execution_count": 9,
      "outputs": [
        {
          "output_type": "execute_result",
          "data": {
            "text/plain": [
              "0    1\n",
              "1    2\n",
              "2    3\n",
              "3    4\n",
              "dtype: int64"
            ]
          },
          "metadata": {
            "tags": []
          },
          "execution_count": 9
        }
      ]
    },
    {
      "metadata": {
        "id": "1K-RTKSoUVp2",
        "colab_type": "code",
        "colab": {}
      },
      "cell_type": "code",
      "source": [
        "df = pd.DataFrame({'PAIS':['Peru','Brasil','Chile'],'CAPITAL':['Lima','Brasilia','Santiago']})"
      ],
      "execution_count": 0,
      "outputs": []
    },
    {
      "metadata": {
        "id": "SQIWSiv6V2u9",
        "colab_type": "code",
        "colab": {
          "base_uri": "https://localhost:8080/",
          "height": 141
        },
        "outputId": "72094bed-7e36-4bdf-9828-c88b7a52c788"
      },
      "cell_type": "code",
      "source": [
        "df.head(3) # primeras\n",
        "df.tail(3) # colas "
      ],
      "execution_count": 28,
      "outputs": [
        {
          "output_type": "execute_result",
          "data": {
            "text/html": [
              "<div>\n",
              "<style scoped>\n",
              "    .dataframe tbody tr th:only-of-type {\n",
              "        vertical-align: middle;\n",
              "    }\n",
              "\n",
              "    .dataframe tbody tr th {\n",
              "        vertical-align: top;\n",
              "    }\n",
              "\n",
              "    .dataframe thead th {\n",
              "        text-align: right;\n",
              "    }\n",
              "</style>\n",
              "<table border=\"1\" class=\"dataframe\">\n",
              "  <thead>\n",
              "    <tr style=\"text-align: right;\">\n",
              "      <th></th>\n",
              "      <th>CAPITAL</th>\n",
              "      <th>PAIS</th>\n",
              "    </tr>\n",
              "  </thead>\n",
              "  <tbody>\n",
              "    <tr>\n",
              "      <th>0</th>\n",
              "      <td>Lima</td>\n",
              "      <td>Peru</td>\n",
              "    </tr>\n",
              "    <tr>\n",
              "      <th>1</th>\n",
              "      <td>Brasilia</td>\n",
              "      <td>Brasil</td>\n",
              "    </tr>\n",
              "    <tr>\n",
              "      <th>2</th>\n",
              "      <td>Santiago</td>\n",
              "      <td>Chile</td>\n",
              "    </tr>\n",
              "  </tbody>\n",
              "</table>\n",
              "</div>"
            ],
            "text/plain": [
              "    CAPITAL    PAIS\n",
              "0      Lima    Peru\n",
              "1  Brasilia  Brasil\n",
              "2  Santiago   Chile"
            ]
          },
          "metadata": {
            "tags": []
          },
          "execution_count": 28
        }
      ]
    },
    {
      "metadata": {
        "id": "RXBtm0bXWggW",
        "colab_type": "code",
        "colab": {
          "base_uri": "https://localhost:8080/",
          "height": 35
        },
        "outputId": "23249f9d-9517-4573-e5c1-6cf74fbc1df4"
      },
      "cell_type": "code",
      "source": [
        "pw_df = pd.DataFrame(np.random.random((6,4)))\n",
        "pw_df.columns = ['A','B','C','D']\n",
        "pw_df.shape #forma (3x2)\n",
        "pw_df.size #n de elementos 6"
      ],
      "execution_count": 88,
      "outputs": [
        {
          "output_type": "execute_result",
          "data": {
            "text/plain": [
              "24"
            ]
          },
          "metadata": {
            "tags": []
          },
          "execution_count": 88
        }
      ]
    },
    {
      "metadata": {
        "id": "NGs1fnjmbHKf",
        "colab_type": "text"
      },
      "cell_type": "markdown",
      "source": [
        "# I/O"
      ]
    },
    {
      "metadata": {
        "id": "6ppKOZoLW-8-",
        "colab_type": "code",
        "colab": {}
      },
      "cell_type": "code",
      "source": [
        "pw_df.to_csv('mycsv.csv') #fullname"
      ],
      "execution_count": 0,
      "outputs": []
    },
    {
      "metadata": {
        "id": "Y0JfEznhZEg2",
        "colab_type": "code",
        "colab": {}
      },
      "cell_type": "code",
      "source": [
        "pw_df = pd.read_csv('mycsv.csv', index_col = 'Unnamed: 0')"
      ],
      "execution_count": 0,
      "outputs": []
    },
    {
      "metadata": {
        "id": "FLHigrCEbqbF",
        "colab_type": "text"
      },
      "cell_type": "markdown",
      "source": [
        "#Getting"
      ]
    },
    {
      "metadata": {
        "id": "nJu25RDDbrZ5",
        "colab_type": "code",
        "colab": {
          "base_uri": "https://localhost:8080/",
          "height": 143
        },
        "outputId": "887af4b4-957e-4a94-e1ca-5137d9f2a33b"
      },
      "cell_type": "code",
      "source": [
        "pw_df['D']"
      ],
      "execution_count": 96,
      "outputs": [
        {
          "output_type": "execute_result",
          "data": {
            "text/plain": [
              "0    0.149325\n",
              "1    0.142758\n",
              "2    0.556146\n",
              "3    0.004269\n",
              "4    0.090501\n",
              "5    0.779630\n",
              "Name: D, dtype: float64"
            ]
          },
          "metadata": {
            "tags": []
          },
          "execution_count": 96
        }
      ]
    },
    {
      "metadata": {
        "id": "ZkDBPYEfcL_g",
        "colab_type": "code",
        "colab": {
          "base_uri": "https://localhost:8080/",
          "height": 233
        },
        "outputId": "d2797112-d5e2-4b42-f4e4-f2ecac1c39bd"
      },
      "cell_type": "code",
      "source": [
        "pw_df"
      ],
      "execution_count": 100,
      "outputs": [
        {
          "output_type": "execute_result",
          "data": {
            "text/html": [
              "<div>\n",
              "<style scoped>\n",
              "    .dataframe tbody tr th:only-of-type {\n",
              "        vertical-align: middle;\n",
              "    }\n",
              "\n",
              "    .dataframe tbody tr th {\n",
              "        vertical-align: top;\n",
              "    }\n",
              "\n",
              "    .dataframe thead th {\n",
              "        text-align: right;\n",
              "    }\n",
              "</style>\n",
              "<table border=\"1\" class=\"dataframe\">\n",
              "  <thead>\n",
              "    <tr style=\"text-align: right;\">\n",
              "      <th></th>\n",
              "      <th>A</th>\n",
              "      <th>B</th>\n",
              "      <th>C</th>\n",
              "      <th>D</th>\n",
              "    </tr>\n",
              "  </thead>\n",
              "  <tbody>\n",
              "    <tr>\n",
              "      <th>0</th>\n",
              "      <td>0.118169</td>\n",
              "      <td>0.311037</td>\n",
              "      <td>0.580229</td>\n",
              "      <td>0.149325</td>\n",
              "    </tr>\n",
              "    <tr>\n",
              "      <th>1</th>\n",
              "      <td>0.615973</td>\n",
              "      <td>0.896265</td>\n",
              "      <td>0.583209</td>\n",
              "      <td>0.142758</td>\n",
              "    </tr>\n",
              "    <tr>\n",
              "      <th>2</th>\n",
              "      <td>0.579720</td>\n",
              "      <td>0.574942</td>\n",
              "      <td>0.213906</td>\n",
              "      <td>0.556146</td>\n",
              "    </tr>\n",
              "    <tr>\n",
              "      <th>3</th>\n",
              "      <td>0.513737</td>\n",
              "      <td>0.699898</td>\n",
              "      <td>0.326020</td>\n",
              "      <td>0.004269</td>\n",
              "    </tr>\n",
              "    <tr>\n",
              "      <th>4</th>\n",
              "      <td>0.471859</td>\n",
              "      <td>0.607059</td>\n",
              "      <td>0.171932</td>\n",
              "      <td>0.090501</td>\n",
              "    </tr>\n",
              "    <tr>\n",
              "      <th>5</th>\n",
              "      <td>0.407038</td>\n",
              "      <td>0.858554</td>\n",
              "      <td>0.117749</td>\n",
              "      <td>0.779630</td>\n",
              "    </tr>\n",
              "  </tbody>\n",
              "</table>\n",
              "</div>"
            ],
            "text/plain": [
              "          A         B         C         D\n",
              "0  0.118169  0.311037  0.580229  0.149325\n",
              "1  0.615973  0.896265  0.583209  0.142758\n",
              "2  0.579720  0.574942  0.213906  0.556146\n",
              "3  0.513737  0.699898  0.326020  0.004269\n",
              "4  0.471859  0.607059  0.171932  0.090501\n",
              "5  0.407038  0.858554  0.117749  0.779630"
            ]
          },
          "metadata": {
            "tags": []
          },
          "execution_count": 100
        }
      ]
    },
    {
      "metadata": {
        "id": "yvD1svf6cdja",
        "colab_type": "code",
        "colab": {}
      },
      "cell_type": "code",
      "source": [
        "pw_df.iloc[] # Se utiliza para obtener un subconjunto usando la posicion.\n",
        "pw_df.loc[] #                                   usando los indices y nombre de columnas."
      ],
      "execution_count": 0,
      "outputs": []
    },
    {
      "metadata": {
        "id": "J_amP_ljc1G4",
        "colab_type": "code",
        "colab": {
          "base_uri": "https://localhost:8080/",
          "height": 79
        },
        "outputId": "ebed9790-629a-4311-e0fe-4226cedb13eb"
      },
      "cell_type": "code",
      "source": [
        "pw_df.iloc[2:3,1:3]"
      ],
      "execution_count": 104,
      "outputs": [
        {
          "output_type": "execute_result",
          "data": {
            "text/html": [
              "<div>\n",
              "<style scoped>\n",
              "    .dataframe tbody tr th:only-of-type {\n",
              "        vertical-align: middle;\n",
              "    }\n",
              "\n",
              "    .dataframe tbody tr th {\n",
              "        vertical-align: top;\n",
              "    }\n",
              "\n",
              "    .dataframe thead th {\n",
              "        text-align: right;\n",
              "    }\n",
              "</style>\n",
              "<table border=\"1\" class=\"dataframe\">\n",
              "  <thead>\n",
              "    <tr style=\"text-align: right;\">\n",
              "      <th></th>\n",
              "      <th>B</th>\n",
              "      <th>C</th>\n",
              "    </tr>\n",
              "  </thead>\n",
              "  <tbody>\n",
              "    <tr>\n",
              "      <th>2</th>\n",
              "      <td>0.574942</td>\n",
              "      <td>0.213906</td>\n",
              "    </tr>\n",
              "  </tbody>\n",
              "</table>\n",
              "</div>"
            ],
            "text/plain": [
              "          B         C\n",
              "2  0.574942  0.213906"
            ]
          },
          "metadata": {
            "tags": []
          },
          "execution_count": 104
        }
      ]
    },
    {
      "metadata": {
        "id": "l-5_Bk4NdozJ",
        "colab_type": "code",
        "colab": {
          "base_uri": "https://localhost:8080/",
          "height": 71
        },
        "outputId": "5116094d-4c42-451e-e517-caba3974eca8"
      },
      "cell_type": "code",
      "source": [
        "pw_df.loc[[1,2],'C']"
      ],
      "execution_count": 106,
      "outputs": [
        {
          "output_type": "execute_result",
          "data": {
            "text/plain": [
              "1    0.583209\n",
              "2    0.213906\n",
              "Name: C, dtype: float64"
            ]
          },
          "metadata": {
            "tags": []
          },
          "execution_count": 106
        }
      ]
    },
    {
      "metadata": {
        "id": "0K7cp6G5eCnS",
        "colab_type": "text"
      },
      "cell_type": "markdown",
      "source": [
        "# Setting"
      ]
    },
    {
      "metadata": {
        "id": "3Mpc73SaeDof",
        "colab_type": "code",
        "colab": {
          "base_uri": "https://localhost:8080/",
          "height": 233
        },
        "outputId": "6bfeddf7-7cc3-4fa1-8dc4-cc6698e27970"
      },
      "cell_type": "code",
      "source": [
        "pw_df"
      ],
      "execution_count": 119,
      "outputs": [
        {
          "output_type": "execute_result",
          "data": {
            "text/html": [
              "<div>\n",
              "<style scoped>\n",
              "    .dataframe tbody tr th:only-of-type {\n",
              "        vertical-align: middle;\n",
              "    }\n",
              "\n",
              "    .dataframe tbody tr th {\n",
              "        vertical-align: top;\n",
              "    }\n",
              "\n",
              "    .dataframe thead th {\n",
              "        text-align: right;\n",
              "    }\n",
              "</style>\n",
              "<table border=\"1\" class=\"dataframe\">\n",
              "  <thead>\n",
              "    <tr style=\"text-align: right;\">\n",
              "      <th></th>\n",
              "      <th>A</th>\n",
              "      <th>B</th>\n",
              "      <th>C</th>\n",
              "      <th>D</th>\n",
              "    </tr>\n",
              "  </thead>\n",
              "  <tbody>\n",
              "    <tr>\n",
              "      <th>0</th>\n",
              "      <td>0.118169</td>\n",
              "      <td>0.311037</td>\n",
              "      <td>0.580229</td>\n",
              "      <td>0.149325</td>\n",
              "    </tr>\n",
              "    <tr>\n",
              "      <th>1</th>\n",
              "      <td>0.615973</td>\n",
              "      <td>0.896265</td>\n",
              "      <td>0.583209</td>\n",
              "      <td>0.142758</td>\n",
              "    </tr>\n",
              "    <tr>\n",
              "      <th>2</th>\n",
              "      <td>0.579720</td>\n",
              "      <td>0.574942</td>\n",
              "      <td>0.213906</td>\n",
              "      <td>0.556146</td>\n",
              "    </tr>\n",
              "    <tr>\n",
              "      <th>3</th>\n",
              "      <td>0.513737</td>\n",
              "      <td>0.699898</td>\n",
              "      <td>0.326020</td>\n",
              "      <td>0.004269</td>\n",
              "    </tr>\n",
              "    <tr>\n",
              "      <th>4</th>\n",
              "      <td>0.471859</td>\n",
              "      <td>0.607059</td>\n",
              "      <td>0.171932</td>\n",
              "      <td>0.090501</td>\n",
              "    </tr>\n",
              "    <tr>\n",
              "      <th>5</th>\n",
              "      <td>0.407038</td>\n",
              "      <td>0.858554</td>\n",
              "      <td>0.117749</td>\n",
              "      <td>0.779630</td>\n",
              "    </tr>\n",
              "  </tbody>\n",
              "</table>\n",
              "</div>"
            ],
            "text/plain": [
              "          A         B         C         D\n",
              "0  0.118169  0.311037  0.580229  0.149325\n",
              "1  0.615973  0.896265  0.583209  0.142758\n",
              "2  0.579720  0.574942  0.213906  0.556146\n",
              "3  0.513737  0.699898  0.326020  0.004269\n",
              "4  0.471859  0.607059  0.171932  0.090501\n",
              "5  0.407038  0.858554  0.117749  0.779630"
            ]
          },
          "metadata": {
            "tags": []
          },
          "execution_count": 119
        }
      ]
    },
    {
      "metadata": {
        "id": "0ZFFspxhe3j9",
        "colab_type": "code",
        "colab": {
          "base_uri": "https://localhost:8080/",
          "height": 141
        },
        "outputId": "fbfb9e8e-de98-4900-c5c1-883a00caf5a8"
      },
      "cell_type": "code",
      "source": [
        "pw_df[pw_df['C'] > 0.3]"
      ],
      "execution_count": 125,
      "outputs": [
        {
          "output_type": "execute_result",
          "data": {
            "text/html": [
              "<div>\n",
              "<style scoped>\n",
              "    .dataframe tbody tr th:only-of-type {\n",
              "        vertical-align: middle;\n",
              "    }\n",
              "\n",
              "    .dataframe tbody tr th {\n",
              "        vertical-align: top;\n",
              "    }\n",
              "\n",
              "    .dataframe thead th {\n",
              "        text-align: right;\n",
              "    }\n",
              "</style>\n",
              "<table border=\"1\" class=\"dataframe\">\n",
              "  <thead>\n",
              "    <tr style=\"text-align: right;\">\n",
              "      <th></th>\n",
              "      <th>A</th>\n",
              "      <th>B</th>\n",
              "      <th>C</th>\n",
              "      <th>D</th>\n",
              "    </tr>\n",
              "  </thead>\n",
              "  <tbody>\n",
              "    <tr>\n",
              "      <th>2</th>\n",
              "      <td>0.579720</td>\n",
              "      <td>0.574942</td>\n",
              "      <td>0.213906</td>\n",
              "      <td>0.556146</td>\n",
              "    </tr>\n",
              "    <tr>\n",
              "      <th>4</th>\n",
              "      <td>0.471859</td>\n",
              "      <td>0.607059</td>\n",
              "      <td>0.171932</td>\n",
              "      <td>0.090501</td>\n",
              "    </tr>\n",
              "    <tr>\n",
              "      <th>5</th>\n",
              "      <td>0.407038</td>\n",
              "      <td>0.858554</td>\n",
              "      <td>0.117749</td>\n",
              "      <td>0.779630</td>\n",
              "    </tr>\n",
              "  </tbody>\n",
              "</table>\n",
              "</div>"
            ],
            "text/plain": [
              "          A         B         C         D\n",
              "2  0.579720  0.574942  0.213906  0.556146\n",
              "4  0.471859  0.607059  0.171932  0.090501\n",
              "5  0.407038  0.858554  0.117749  0.779630"
            ]
          },
          "metadata": {
            "tags": []
          },
          "execution_count": 125
        }
      ]
    },
    {
      "metadata": {
        "id": "HrLaXE-nfXza",
        "colab_type": "code",
        "colab": {
          "base_uri": "https://localhost:8080/",
          "height": 233
        },
        "outputId": "f936204b-9301-4476-8d5d-2eed6dae047c"
      },
      "cell_type": "code",
      "source": [
        "pw_df.drop(['D'],axis = 1)"
      ],
      "execution_count": 133,
      "outputs": [
        {
          "output_type": "execute_result",
          "data": {
            "text/html": [
              "<div>\n",
              "<style scoped>\n",
              "    .dataframe tbody tr th:only-of-type {\n",
              "        vertical-align: middle;\n",
              "    }\n",
              "\n",
              "    .dataframe tbody tr th {\n",
              "        vertical-align: top;\n",
              "    }\n",
              "\n",
              "    .dataframe thead th {\n",
              "        text-align: right;\n",
              "    }\n",
              "</style>\n",
              "<table border=\"1\" class=\"dataframe\">\n",
              "  <thead>\n",
              "    <tr style=\"text-align: right;\">\n",
              "      <th></th>\n",
              "      <th>A</th>\n",
              "      <th>B</th>\n",
              "      <th>C</th>\n",
              "    </tr>\n",
              "  </thead>\n",
              "  <tbody>\n",
              "    <tr>\n",
              "      <th>0</th>\n",
              "      <td>0.118169</td>\n",
              "      <td>0.311037</td>\n",
              "      <td>0.580229</td>\n",
              "    </tr>\n",
              "    <tr>\n",
              "      <th>1</th>\n",
              "      <td>0.615973</td>\n",
              "      <td>0.896265</td>\n",
              "      <td>0.583209</td>\n",
              "    </tr>\n",
              "    <tr>\n",
              "      <th>2</th>\n",
              "      <td>0.579720</td>\n",
              "      <td>0.574942</td>\n",
              "      <td>0.213906</td>\n",
              "    </tr>\n",
              "    <tr>\n",
              "      <th>3</th>\n",
              "      <td>0.513737</td>\n",
              "      <td>0.699898</td>\n",
              "      <td>0.326020</td>\n",
              "    </tr>\n",
              "    <tr>\n",
              "      <th>4</th>\n",
              "      <td>0.471859</td>\n",
              "      <td>0.607059</td>\n",
              "      <td>0.171932</td>\n",
              "    </tr>\n",
              "    <tr>\n",
              "      <th>5</th>\n",
              "      <td>0.407038</td>\n",
              "      <td>0.858554</td>\n",
              "      <td>0.117749</td>\n",
              "    </tr>\n",
              "  </tbody>\n",
              "</table>\n",
              "</div>"
            ],
            "text/plain": [
              "          A         B         C\n",
              "0  0.118169  0.311037  0.580229\n",
              "1  0.615973  0.896265  0.583209\n",
              "2  0.579720  0.574942  0.213906\n",
              "3  0.513737  0.699898  0.326020\n",
              "4  0.471859  0.607059  0.171932\n",
              "5  0.407038  0.858554  0.117749"
            ]
          },
          "metadata": {
            "tags": []
          },
          "execution_count": 133
        }
      ]
    }
  ]
}