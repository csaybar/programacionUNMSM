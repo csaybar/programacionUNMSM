{
  "nbformat": 4,
  "nbformat_minor": 0,
  "metadata": {
    "colab": {
      "name": "class02_eebasic.ipynb",
      "version": "0.3.2",
      "provenance": [],
      "collapsed_sections": [],
      "toc_visible": true,
      "include_colab_link": true
    },
    "kernelspec": {
      "name": "python3",
      "display_name": "Python 3"
    }
  },
  "cells": [
    {
      "cell_type": "markdown",
      "metadata": {
        "id": "view-in-github",
        "colab_type": "text"
      },
      "source": [
        "<a href=\"https://colab.research.google.com/github/csaybar/programacionUNMSM/blob/master/programacionUNMSM/class02%3AGEE/class02_eebasic.ipynb\" target=\"_parent\"><img src=\"https://colab.research.google.com/assets/colab-badge.svg\" alt=\"Open In Colab\"/></a>"
      ]
    },
    {
      "metadata": {
        "id": "LLsMfKkqWf9j",
        "colab_type": "text"
      },
      "cell_type": "markdown",
      "source": [
        "# Earth Engine Colab Intro\n",
        "\n",
        "This notebook is a brief introduction to the  **Earth Engine Python API** potencialities. Here you can access to planetary maps and aerial imagery that are much more extensive and considerably more specialized than those immediately accessible through Google Earth.  These include global and sub-global datasets relating to land cover, topographic elevation, \n",
        "and meteorological conditions that often range over time as well as space.\n",
        "\n",
        "<center>\n",
        "![](https://raw.githubusercontent.com/csaybar/programacionUNMSM/master/class02%3AGEE/img/ee.png)"
      ]
    },
    {
      "metadata": {
        "id": "4PMwgxRK3Lv5",
        "colab_type": "text"
      },
      "cell_type": "markdown",
      "source": [
        "## What is Google Earth Engine?\n",
        "\n",
        "Earth Engine consists of a multi-petabyte analysis-ready data catalog\n",
        "co-located with a high-performance, intrinsically parallel computation service. It is accessed and controlled through an Internet-accessible application programming interface (API) and an associated web-based interactive development environment (IDE) that enables rapid prototyping and visualization of results.\n",
        "\n",
        "The data catalog houses a large repository of publicly available geospatial datasets, including observations from a variety of satellite and aerial imaging systems in both optical and non-optical wavelengths,\n",
        "environmental variables, weather and climate forecasts and\n",
        "hindcasts, land cover, topographic and socio-economic datasets. All of\n",
        "this data is preprocessed to a ready-to-use but information-preserving\n",
        "form that allows efficient access and removes many barriers associated\n",
        "with data management.\n",
        "\n",
        "<center>\n",
        "![](https://raw.githubusercontent.com/csaybar/programacionUNMSM/master/class02%3AGEE/img/architecture.png)\n",
        "  \n",
        "**A simplified system architecture diagram.**"
      ]
    },
    {
      "metadata": {
        "id": "IArkCvVsWjEA",
        "colab_type": "text"
      },
      "cell_type": "markdown",
      "source": [
        "#  ¿What is colab?\n",
        "\n",
        "Google **colab** is a free cloud service (jupyter as service) with GPU and TPU support.\n",
        "\n",
        "<img class=\"center\"  height=\"200\" src=\"https://colab.research.google.com/img/colab_favicon_256px.png\" >\n",
        "\n",
        "### Try yourself!!"
      ]
    },
    {
      "metadata": {
        "id": "AITIiF0aWk97",
        "colab_type": "code",
        "colab": {}
      },
      "cell_type": "code",
      "source": [
        "#check the SO\n",
        "!cat /etc/*release"
      ],
      "execution_count": 0,
      "outputs": []
    },
    {
      "metadata": {
        "id": "QvxKpoGTZsWj",
        "colab_type": "code",
        "colab": {}
      },
      "cell_type": "code",
      "source": [
        "#How many cpu are there?\n",
        "!lscpu"
      ],
      "execution_count": 0,
      "outputs": []
    },
    {
      "metadata": {
        "id": "qANP673eZus6",
        "colab_type": "code",
        "colab": {}
      },
      "cell_type": "code",
      "source": [
        "# How much RAM does it have?\n",
        "!grep MemTotal /proc/meminfo"
      ],
      "execution_count": 0,
      "outputs": []
    },
    {
      "metadata": {
        "id": "GrpGEz7OZzvk",
        "colab_type": "text"
      },
      "cell_type": "markdown",
      "source": [
        "## 1. Authorizing services"
      ]
    },
    {
      "metadata": {
        "id": "JHRSR7BgaHx_",
        "colab_type": "code",
        "cellView": "form",
        "colab": {}
      },
      "cell_type": "code",
      "source": [
        "#@title Google Earth Engine (Oauth2 Authorization)\n",
        "\n",
        "# Check if the server is authenticated. If not, display instructions that\n",
        "# explain how to complete the process.\n",
        "\n",
        "!pip install earthengine-api\n",
        "import ee  \n",
        "\n",
        "try:\n",
        "  ee.Initialize()\n",
        "except ee.EEException:\n",
        "  !earthengine authenticate\n",
        "  ee.Initialize()"
      ],
      "execution_count": 0,
      "outputs": []
    },
    {
      "metadata": {
        "id": "mynecdw_afeO",
        "colab_type": "code",
        "cellView": "form",
        "colab": {}
      },
      "cell_type": "code",
      "source": [
        "#@title Google Drive (Oauth Authorization)\n",
        "from google.colab import drive\n",
        "drive.mount('/content/drive')"
      ],
      "execution_count": 0,
      "outputs": []
    },
    {
      "metadata": {
        "id": "0djKTwgVe4Oi",
        "colab_type": "text"
      },
      "cell_type": "markdown",
      "source": [
        "## 2. Colab & Google drive example"
      ]
    },
    {
      "metadata": {
        "id": "2FjNx_XOakU-",
        "colab_type": "code",
        "colab": {}
      },
      "cell_type": "code",
      "source": [
        "#1._ Create a folder in google drive from colab\n",
        "import os, errno\n",
        "newfolder = 'drive/My Drive/myfirstfolder/'\n",
        "try:\n",
        "  os.makedirs(newfolder)\n",
        "except OSError as e:\n",
        "  if e.errno != errno.EEXIST:\n",
        "    raise"
      ],
      "execution_count": 0,
      "outputs": []
    },
    {
      "metadata": {
        "id": "iaEcIPYgdHo_",
        "colab_type": "code",
        "colab": {}
      },
      "cell_type": "code",
      "source": [
        "#2._ Change current directory /content to newfolder\n",
        "pwd      # 1.current directory"
      ],
      "execution_count": 0,
      "outputs": []
    },
    {
      "metadata": {
        "id": "rPB7O1v2eugR",
        "colab_type": "code",
        "colab": {}
      },
      "cell_type": "code",
      "source": [
        "cd /content/drive/My\\ Drive/myfirstfolder/"
      ],
      "execution_count": 0,
      "outputs": []
    },
    {
      "metadata": {
        "id": "WjrbnANrewoA",
        "colab_type": "code",
        "colab": {}
      },
      "cell_type": "code",
      "source": [
        "pwd"
      ],
      "execution_count": 0,
      "outputs": []
    },
    {
      "metadata": {
        "id": "teN2InaeXbAn",
        "colab_type": "text"
      },
      "cell_type": "markdown",
      "source": [
        "## 3. Google Earth Objects\n",
        "\n",
        "Think of **_ee.Thing_** as a container for a thing that exists on the server. In this example, the string is defined first, then put into the container. You can also define the container and its contents all at once. For example:\n",
        "\n",
        "Although the first argument to print() is just a string on the client, the second argument is actually sent to the server to be evaluated, then sent back.\n",
        "\n",
        "### 3.1 Strings\n",
        "For example, define a string, then put it into the ee.String() container to be sent to Earth Engine:"
      ]
    },
    {
      "metadata": {
        "id": "BTVDMy1aZ09f",
        "colab_type": "code",
        "colab": {
          "base_uri": "https://localhost:8080/",
          "height": 35
        },
        "outputId": "54e83938-61fd-4932-8b85-3199e5e1b73e"
      },
      "cell_type": "code",
      "source": [
        "# Define a string, then put it into an EE container.\n",
        "aString = 'To the cloud!'\n",
        "eeString = ee.String(aString)\n",
        "print('Where to?', eeString)"
      ],
      "execution_count": 23,
      "outputs": [
        {
          "output_type": "stream",
          "text": [
            "Where to? ee.String(\"To the cloud!\")\n"
          ],
          "name": "stdout"
        }
      ]
    },
    {
      "metadata": {
        "id": "T9gTkcVdaT1I",
        "colab_type": "text"
      },
      "cell_type": "markdown",
      "source": [
        "### 3.2 Numbers\n",
        "Use **ee.Number()** to create number objects on the server. \n",
        "\n"
      ]
    },
    {
      "metadata": {
        "id": "2j0lbQTxbZDb",
        "colab_type": "code",
        "colab": {
          "base_uri": "https://localhost:8080/",
          "height": 35
        },
        "outputId": "fddde37f-3341-4819-df78-3bffd318bc80"
      },
      "cell_type": "code",
      "source": [
        "import math\n",
        "serverNumber = ee.Number(math.e)\n",
        "print('e=', serverNumber);"
      ],
      "execution_count": 27,
      "outputs": [
        {
          "output_type": "stream",
          "text": [
            "e= ee.Number(2.718281828459045)\n"
          ],
          "name": "stdout"
        }
      ]
    },
    {
      "metadata": {
        "id": "5MDyTYUeb3gV",
        "colab_type": "code",
        "colab": {
          "base_uri": "https://localhost:8080/",
          "height": 35
        },
        "outputId": "d1868913-7b9c-4f36-b749-cf9098f982eb"
      },
      "cell_type": "code",
      "source": [
        "log_e = serverNumber.log()\n",
        "log_e.getInfo()"
      ],
      "execution_count": 32,
      "outputs": [
        {
          "output_type": "execute_result",
          "data": {
            "text/plain": [
              "1.0"
            ]
          },
          "metadata": {
            "tags": []
          },
          "execution_count": 32
        }
      ]
    },
    {
      "metadata": {
        "id": "I2hEQ2S9cdxJ",
        "colab_type": "text"
      },
      "cell_type": "markdown",
      "source": [
        "### 3.3 List\n",
        "\n",
        "To make a Python list into an ee.List object on the server, you can put a Python literal into a container as with numbers and strings. Earth Engine also provides server-side convenience methods for making sequences of numbers. For example:"
      ]
    },
    {
      "metadata": {
        "id": "XB0xyJNLdQSc",
        "colab_type": "code",
        "colab": {
          "base_uri": "https://localhost:8080/",
          "height": 35
        },
        "outputId": "811c9ca5-ceff-46cd-d2ef-0479150f24de"
      },
      "cell_type": "code",
      "source": [
        "eeList = ee.List([1, 2, 3, 4, 5])\n",
        "# Make a sequence the easy way!\n",
        "sequence = ee.List.sequence(1, 5)\n",
        "print('Sequence:', sequence)\n",
        "sequence.getInfo()"
      ],
      "execution_count": 37,
      "outputs": [
        {
          "output_type": "execute_result",
          "data": {
            "text/plain": [
              "3.0"
            ]
          },
          "metadata": {
            "tags": []
          },
          "execution_count": 37
        }
      ]
    },
    {
      "metadata": {
        "id": "y2GiK5aqd6rz",
        "colab_type": "text"
      },
      "cell_type": "markdown",
      "source": [
        "### 3.4 Dictionaries\n",
        "\n",
        "You can construct an Earth Engine Dictionary from a Python object, as with strings, numbers and lists. At construction time, you can use JavaScript functionality to initialize the Earth Engine object. In this case an ee.Dictionary is constructed directly from a Python literal object:\n",
        "\n"
      ]
    },
    {
      "metadata": {
        "id": "Gj3MDKSteOMR",
        "colab_type": "code",
        "colab": {
          "base_uri": "https://localhost:8080/",
          "height": 35
        },
        "outputId": "1240d527-7efa-4a3e-de25-fd6d9fa143ba"
      },
      "cell_type": "code",
      "source": [
        "import math \n",
        "\n",
        "dictionary = ee.Dictionary({\n",
        "  'e': math.e,\n",
        "  'pi': math.pi,\n",
        "  'phi': (1 + math.sqrt(5)) / 2\n",
        "})\n",
        "\n",
        "print('Euler:', dictionary.get('e'))\n",
        "print('Pi:', dictionary.get('pi'))\n",
        "print('Golden ratio:', dictionary.get('phi'))\n",
        "\n",
        "dictionary.keys().getInfo()"
      ],
      "execution_count": 50,
      "outputs": [
        {
          "output_type": "execute_result",
          "data": {
            "text/plain": [
              "['e', 'phi', 'pi']"
            ]
          },
          "metadata": {
            "tags": []
          },
          "execution_count": 50
        }
      ]
    },
    {
      "metadata": {
        "id": "3fKZrV02hYJi",
        "colab_type": "text"
      },
      "cell_type": "markdown",
      "source": [
        "### 3.5 Dates\n",
        "\n",
        "Date objects are the way Earth Engine represents time. As in the previous examples, it is important to distinguish between a Python Date object and an Earth Engine ee.Date object. Construct an ee.Date from a string, from a Python Date, or using static methods provided by the ee.Date class. This example illustrates the construction of dates from strings or a Python date representing milliseconds since midnight on January 1, 1970:"
      ]
    },
    {
      "metadata": {
        "id": "aH_upRbAh1-s",
        "colab_type": "code",
        "colab": {}
      },
      "cell_type": "code",
      "source": [
        "# Create a Date object using a string\n",
        "date = ee.Date('2015-12-31')\n",
        "print('Date:', date)\n",
        "print(date.getInfo())\n",
        "\n",
        "# Create a Date object using the module datetime\n",
        "import datetime\n",
        "now = datetime.datetime.now()\n",
        "print('Milliseconds since January 1, 1970', now)\n",
        "eeNow = ee.Date(now)\n",
        "print('Now:', eeNow)\n",
        "eeNow.getInfo()"
      ],
      "execution_count": 0,
      "outputs": []
    },
    {
      "metadata": {
        "id": "wS0kCBq7jzjI",
        "colab_type": "text"
      },
      "cell_type": "markdown",
      "source": [
        "## 3.6 Digression: passing parameters by name\n",
        "\n",
        "Arguments to Earth Engine methods can be passed in order, for example to create an ee.Date from year, month and day, you can pass parameters of the fromYMD() static method in the order year, month, day:"
      ]
    },
    {
      "metadata": {
        "id": "4tPGL6RLj66C",
        "colab_type": "code",
        "colab": {}
      },
      "cell_type": "code",
      "source": [
        "# First method\n",
        "aDate = ee.Date.fromYMD(2017, 1, 13)\n",
        "print('aDate:', aDate)\n",
        "aDate.getInfo()"
      ],
      "execution_count": 0,
      "outputs": []
    },
    {
      "metadata": {
        "id": "9haJO4pCg1GY",
        "colab_type": "text"
      },
      "cell_type": "markdown",
      "source": [
        "## 4. Hello world \n",
        "---\n",
        "**ee.Image('assetID'):** In GEE  raster data are represented as **Image objects**. Images are composed of one or more bands and each band has its own name, data type, scale, mask and projection. Each image has metadata stored as a set of properties. \n",
        "\n",
        "**ee.Image()** accepts a variety of arguments:\n",
        "- A string: an EarthEngine asset id,\n",
        "- A string and a number - an EarthEngine asset id and version,\n",
        "- A number or EEArray: creates a constant image,\n",
        "- A list: creates an image out of each list element and combines them into a single image,\n",
        "- An ee.Image: returns the argument,\n",
        "- Nothing: results in an empty transparent image.\n",
        "\n",
        "---\n",
        "\n",
        "**ee.Terrain.hillshade**\n",
        "Computes a simple hillshade from a DEM.\n",
        "\n",
        "**ee.Terrain.slope**\n",
        "Calculates slope in degrees from a terrain DEM. The local gradient is computed using the 4-connected neighbors of each pixel, so missing values will occur around the edges of an image.\n",
        "\n",
        "---\n",
        "**ee.Image.addBands()**\n",
        "Returns an image containing all bands copied from the first input and selected bands from the second input, optionally overwriting bands in the first image with the same name. The new image has the metadata and footprint from the first input image."
      ]
    },
    {
      "metadata": {
        "id": "Xy5K4rdqg5XI",
        "colab_type": "code",
        "outputId": "3d0d35a8-7093-4e9a-8912-1df18b19a4d8",
        "colab": {
          "base_uri": "https://localhost:8080/",
          "height": 185
        }
      },
      "cell_type": "code",
      "source": [
        "from IPython.display import Image\n",
        "# Display a thumbnail of a sample image asset.\n",
        "Image(url=ee.Image(\"USGS/SRTMGL1_003\").getThumbUrl({'min': 0, 'max': 3000}))"
      ],
      "execution_count": 64,
      "outputs": [
        {
          "output_type": "execute_result",
          "data": {
            "text/html": [
              "<img src=\"https://earthengine.googleapis.com/api/thumb?thumbid=93cfaff95c2659ebd69cf20d413bfa84&token=55ac135efca4e4a3598c9614c521fc2a\"/>"
            ],
            "text/plain": [
              "<IPython.core.display.Image object>"
            ]
          },
          "metadata": {
            "tags": []
          },
          "execution_count": 64
        }
      ]
    },
    {
      "metadata": {
        "id": "VfF6xxBpiJx5",
        "colab_type": "code",
        "colab": {}
      },
      "cell_type": "code",
      "source": [
        "#Loading a image\n",
        "terrain = ee.Image(\"CGIAR/SRTM90_V4\").float()\n",
        "terrain.getInfo()"
      ],
      "execution_count": 0,
      "outputs": []
    },
    {
      "metadata": {
        "id": "Vx4BlVV3zatN",
        "colab_type": "text"
      },
      "cell_type": "markdown",
      "source": [
        "#### slope\n",
        "*Horn, B.K.P., 1981. Hill shading and the reflectance map. Proceedings of the IEEE 69, 14–47. doi:10.1109/PROC.1981.11918*\n",
        "\n",
        "Horn (1981) Calcula la pendiente de una celda focal mediante el uso de una estimación de diferencia central de una superficie adaptada a la célula focal y sus vecinos. La pendiente elegida es el máximo de esta superficie y puede devolverse en varios formatos.\n",
        "\n",
        "#### aspect\n",
        "*Horn, B.K.P., 1981. Hill shading and the reflectance map. Proceedings of the IEEE 69, 14–47. doi:10.1109/PROC.1981.11918*\n",
        "\n",
        "Horn (1981) calcula el aspecto como la dirección de la pendiente máxima de la celda focal. El valor devuelto es en grados."
      ]
    },
    {
      "metadata": {
        "id": "C4x9BVnCl8FS",
        "colab_type": "code",
        "colab": {}
      },
      "cell_type": "code",
      "source": [
        "# Estimating the slope\n",
        "slope = ee.Terrain.slope(terrain).float()\n",
        "\n",
        "# Estimating the hillshade\n",
        "aspect = ee.Terrain.aspect(terrain).float()\n",
        "\n",
        "#Adding the slope and hillshade to the dem\n",
        "newterrain = terrain.addBands(slope).addBands(aspect)\n",
        "print(newterrain)"
      ],
      "execution_count": 0,
      "outputs": []
    },
    {
      "metadata": {
        "id": "T9j1w7SirCy4",
        "colab_type": "text"
      },
      "cell_type": "markdown",
      "source": [
        "## 4.  Upload a Shapefile"
      ]
    },
    {
      "metadata": {
        "id": "rwlxWLHPrIvR",
        "colab_type": "code",
        "colab": {}
      },
      "cell_type": "code",
      "source": [
        "#4.1 Install libraries\n",
        "!pip install geopandas # manipulate geometries in python\n",
        "!pip install descartes # vizualization library"
      ],
      "execution_count": 0,
      "outputs": []
    },
    {
      "metadata": {
        "id": "sVFGeI3YnSQf",
        "colab_type": "code",
        "colab": {}
      },
      "cell_type": "code",
      "source": [
        "#4.2 Install libraries\n",
        "import geopandas as gpd # Manipulate geometries in python\n",
        "import urllib # Package that collects several modules for working with URLs.\n",
        "import zipfile # Unzip a *.zip file\n",
        "from matplotlib import pyplot as plt # Data vzualization with python!"
      ],
      "execution_count": 0,
      "outputs": []
    },
    {
      "metadata": {
        "id": "l2DOejEgr_xt",
        "colab_type": "code",
        "colab": {}
      },
      "cell_type": "code",
      "source": [
        "#4.3 download \"prov.zip\"\n",
        "provincias = 'https://github.com/csaybar/programacionUNMSM/raw/master/class02:GEE/data/data.zip'\n",
        "urllib.request.urlretrieve(provincias, 'prov.zip')\n",
        "\n",
        "#4.4 unzip\n",
        "zpfile = 'prov.zip'\n",
        "with zipfile.ZipFile(zpfile, 'r') as zip_file:\n",
        "  zip_file.extractall('.')"
      ],
      "execution_count": 0,
      "outputs": []
    },
    {
      "metadata": {
        "id": "Bo0WN40M354Z",
        "colab_type": "code",
        "outputId": "5a13d765-b246-4f3a-eb14-8988fcdf7e18",
        "colab": {
          "base_uri": "https://localhost:8080/",
          "height": 347
        }
      },
      "cell_type": "code",
      "source": [
        "provincias = gpd.read_file('Provincia.shp')\n",
        "provincias.plot()\n",
        "plt.show()"
      ],
      "execution_count": 84,
      "outputs": [
        {
          "output_type": "display_data",
          "data": {
            "image/png": "[encoded data removed]",
            "text/plain": [
              "<Figure size 576x396 with 1 Axes>"
            ]
          },
          "metadata": {
            "tags": []
          }
        }
      ]
    },
    {
      "metadata": {
        "id": "1GEQEWlZ3xgJ",
        "colab_type": "text"
      },
      "cell_type": "markdown",
      "source": [
        "## 5. Geopandas to ee.Geometry"
      ]
    },
    {
      "metadata": {
        "id": "DuPNUrw8zB7V",
        "colab_type": "code",
        "outputId": "f9809648-841d-4e0c-adb7-691e48be018e",
        "colab": {
          "base_uri": "https://localhost:8080/",
          "height": 347
        }
      },
      "cell_type": "code",
      "source": [
        "# 5.1 Select a province of Peru!\n",
        "quispicanchi = provincias[provincias.NOMBRE == 'BARRANCA']\n",
        "quispicanchi_geojson = eval(quispicanchi.to_json())\n",
        "quispicanchi.plot()\n",
        "plt.show()"
      ],
      "execution_count": 85,
      "outputs": [
        {
          "output_type": "display_data",
          "data": {
            "image/png": "[encoded data removed]",
            "text/plain": [
              "<Figure size 576x396 with 1 Axes>"
            ]
          },
          "metadata": {
            "tags": []
          }
        }
      ]
    },
    {
      "metadata": {
        "id": "vjGUnoXO6qkj",
        "colab_type": "text"
      },
      "cell_type": "markdown",
      "source": [
        "- **ee.Geometry('type menber'):** GEE handles vector data with the Geometry type. The [GeoJSON](http://geojson.org/geojson-spec.html) spec describes in detail the type of geometries supported by Earth Engine.\n",
        "\n",
        "![](https://r-spatial.github.io/sf/articles/sf1_files/figure-html/unnamed-chunk-20-1.png)\n",
        "\n",
        "---\n",
        "- **ee.Feature('type menber'):** A Feature in GEE is defined as a **GeoJSON** Feature. Specifically, a Feature is an object with a **geometry property** storing a Geometry object (or null) and a **properties property** storing a dictionary of other properties.\n"
      ]
    },
    {
      "metadata": {
        "id": "woIun7W__X2m",
        "colab_type": "code",
        "colab": {}
      },
      "cell_type": "code",
      "source": [
        "# 5.2 Creating a ee.Geometry\n",
        "coord_poly = quispicanchi_geojson['features'][0]['geometry']['coordinates']\n",
        "properties_poly = quispicanchi_geojson['features'][0]['properties']\n",
        "\n",
        "# 5.3 Creating a ee.Feature (Remenber that ee.Feature(ee.Geometry,properties))\n",
        "quispicanchi_geom = ee.Geometry.Polygon(coord_poly)\n",
        "quispicanchi_feature = ee.Feature(quispicanchi_geom,properties_poly)\n",
        "print(quispicanchi_feature)"
      ],
      "execution_count": 0,
      "outputs": []
    },
    {
      "metadata": {
        "id": "vwTOe5ES9Clv",
        "colab_type": "text"
      },
      "cell_type": "markdown",
      "source": [
        "## 6. Clipping image and metada"
      ]
    },
    {
      "metadata": {
        "id": "CLV_gbuFA1nK",
        "colab_type": "code",
        "colab": {}
      },
      "cell_type": "code",
      "source": [
        "newterrain_crop = newterrain.clip(quispicanchi_feature)\n",
        "\n",
        "print(newterrain_crop.bandNames().getInfo()) #band names\n",
        "print(newterrain_crop.projection().getInfo()) #CRS and transform\n",
        "print(newterrain_crop.projection().nominalScale().getInfo()) #pixel resolution\n",
        "print(newterrain_crop.propertyNames().getInfo()) #List of metadata properties"
      ],
      "execution_count": 0,
      "outputs": []
    },
    {
      "metadata": {
        "id": "odVveOiUGTMN",
        "colab_type": "text"
      },
      "cell_type": "markdown",
      "source": [
        "## 7. Dowloading a ee.Image()"
      ]
    },
    {
      "metadata": {
        "id": "ZUkn61i9-lvG",
        "colab_type": "code",
        "outputId": "81f651dd-bfb3-42e9-b33a-ac090da77b4c",
        "colab": {
          "base_uri": "https://localhost:8080/",
          "height": 55
        }
      },
      "cell_type": "code",
      "source": [
        "# 7.1 First method (obsolete)\n",
        "pixel_size = newterrain_crop.projection().nominalScale().getInfo()\n",
        "terrain = newterrain_crop.getDownloadURL({\n",
        "            'scale':pixel_size,\n",
        "            'crs':'EPSG:4326'\n",
        "    })\n",
        "print(terrain)"
      ],
      "execution_count": 0,
      "outputs": [
        {
          "output_type": "stream",
          "text": [
            "https://earthengine.googleapis.com/api/download?docid=0b85fd6db8620a2932afb972304c7156&token=fd7b23ebebcbd03f189ce69c92c64a6a\n"
          ],
          "name": "stdout"
        }
      ]
    },
    {
      "metadata": {
        "id": "Xzi7AVs-GnTz",
        "colab_type": "code",
        "colab": {}
      },
      "cell_type": "code",
      "source": [
        "#7.2 Second method (Save in your google drive account)\n",
        "task_config = {\n",
        "    'scale': pixel_size,\n",
        "    'folder': 'myfirstfolder'\n",
        "    #'region': geometry\n",
        "    }\n",
        "\n",
        "task = ee.batch.Export.image(newterrain_crop, 'myterrain', task_config)\n",
        "task.start()"
      ],
      "execution_count": 0,
      "outputs": []
    },
    {
      "metadata": {
        "id": "lrqlAqePKWkg",
        "colab_type": "code",
        "colab": {}
      },
      "cell_type": "code",
      "source": [
        "task.status()"
      ],
      "execution_count": 0,
      "outputs": []
    },
    {
      "metadata": {
        "id": "v8edmTE7x3Bk",
        "colab_type": "text"
      },
      "cell_type": "markdown",
      "source": [
        "## NDVI using Landsat8"
      ]
    },
    {
      "metadata": {
        "id": "A34RodlWymn8",
        "colab_type": "code",
        "colab": {}
      },
      "cell_type": "code",
      "source": [
        "init_date = ee.Date('2017-12-31')\n",
        "last_date = ee.Date('2018-12-31')\n",
        "l8_s = ee.ImageCollection(\"LANDSAT/LC08/C01/T1_SR\")\\\n",
        "         .filterDate(init_date,last_date)\\\n",
        "         .min()\\\n",
        "         .normalizedDifference(['B5', 'B4'])\\\n",
        "         .clip(quispicanchi_feature)\n",
        "\n",
        "task_config = {\n",
        "    'scale': 30,\n",
        "    'folder': 'myfirstfolder'\n",
        "}\n",
        "task = ee.batch.Export.image(l8_s, 'ndvi', task_config)\n",
        "task.start()"
      ],
      "execution_count": 0,
      "outputs": []
    },
    {
      "metadata": {
        "id": "CD_CSMxJ19ga",
        "colab_type": "code",
        "colab": {}
      },
      "cell_type": "code",
      "source": [
        "task.status()"
      ],
      "execution_count": 0,
      "outputs": []
    },
    {
      "metadata": {
        "id": "_Q9POVl97ZrP",
        "colab_type": "text"
      },
      "cell_type": "markdown",
      "source": [
        "## NDVI using Sentinel2"
      ]
    }
  ]
}